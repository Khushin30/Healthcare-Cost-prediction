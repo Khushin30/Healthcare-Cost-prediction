{
 "cells": [
  {
   "cell_type": "code",
   "execution_count": 3,
   "id": "57eba5cb",
   "metadata": {},
   "outputs": [],
   "source": [
    "import json\n",
    "from geopy.geocoders import Nominatim\n",
    "import re\n",
    "import time"
   ]
  },
  {
   "cell_type": "code",
   "execution_count": 4,
   "id": "9fb129ba",
   "metadata": {},
   "outputs": [],
   "source": [
    "with open('./hospital_to_add.json', 'r') as file:\n",
    "    hospital_to_add = json.load(file)\n",
    "\n",
    "hospital_to_coords = {}\n",
    "geolocator = Nominatim(user_agent=\"geocoding_app\")\n",
    "\n",
    "# Loop through each hospital and address\n",
    "failures = {}\n",
    "for hospital, address in hospital_to_add.items():\n",
    "    try:\n",
    "        location = geolocator.geocode(address)\n",
    "        if location:\n",
    "            hospital_to_coords[hospital] = (location.latitude, location.longitude)\n",
    "\n",
    "        else:\n",
    "            failures[hospital] = 'Some issue'\n",
    "            \n",
    "    except Exception as e:\n",
    "        failures[hospital] = e\n",
    "\n",
    "    time.sleep(1)  # Be nice to the Nominatim API: add a short delay"
   ]
  },
  {
   "cell_type": "code",
   "execution_count": 5,
   "id": "82c1999b",
   "metadata": {},
   "outputs": [
    {
     "data": {
      "text/plain": [
       "89"
      ]
     },
     "execution_count": 5,
     "metadata": {},
     "output_type": "execute_result"
    }
   ],
   "source": [
    "len(failures)"
   ]
  },
  {
   "cell_type": "code",
   "execution_count": 6,
   "id": "cdf2e207",
   "metadata": {},
   "outputs": [
    {
     "name": "stdout",
     "output_type": "stream",
     "text": [
      "Second pass success for Helen Hayes Hospital: 41.2098301, -73.9857513\n",
      "Second pass success for Arnot Ogden Medical Center: 42.0897965, -76.8077338\n",
      "Second pass success for Bellevue Hospital Center: 40.7127281, -74.0060152\n",
      "Second pass success for Canton-Potsdam Hospital: 44.5956163, -75.1690942\n",
      "Second pass success for Coney Island Hospital: 40.7127281, -74.0060152\n",
      "Second pass success for Brookdale Hospital Medical Center: 40.6526006, -73.9497211\n",
      "Second pass success for Carthage Area Hospital Inc: 44.152159, -75.321236\n",
      "Second pass success for Catskill Regional Medical Center: 41.6556465, -74.6893282\n",
      "Second pass success for Catskill Regional Medical Center - G. Hermann Site: 41.7142564, -74.726273\n",
      "Second pass success for Clifton-Fine Hospital: 44.1601506, -75.034694\n",
      "Second pass success for Cobleskill Regional Hospital: 42.677853, -74.4854172\n",
      "Second pass success for Cohen Children's Medical Center: 40.7308451, -73.6805499\n",
      "Second pass success for Columbia Memorial Hospital: 42.2540699, -73.7977798\n",
      "Second pass success for Delaware Valley Hospital Inc: 42.2781401, -74.9159946\n",
      "Second pass success for Eastern Long Island Hospital: 41.1032958, -72.3593093\n",
      "Second pass success for Ellenville Regional Hospital: 41.7170379, -74.39571\n",
      "Second pass success for Glen Cove Hospital: 40.8641845, -73.6319174\n",
      "Second pass success for Good Samaritan Hospital Medical Center: 40.7058564, -73.3077301\n",
      "Second pass success for HealthAlliance Hospital Mary's Avenue Campus: 41.9287812, -74.0023825\n",
      "Second pass success for Hospital for Special Surgery: 40.7127281, -74.0060152\n",
      "Second pass success for Jamaica Hospital Medical Center: 40.6994253, -73.8309672\n",
      "Second pass success for Ira Davenport Memorial Hospital Inc: 42.3370164, -77.3177577\n",
      "Second pass success for John T Mather Memorial Hospital of Port Jefferson New York Inc: 40.9465118, -73.0691257\n",
      "Second pass success for Long Island Jewish Medical Center: 40.7308451, -73.6805499\n",
      "Second pass success for Margaretville Hospital: 42.2839739, -74.5648747\n",
      "Second pass success for Mount Sinai Brooklyn: 40.6526006, -73.9497211\n",
      "Second pass success for Mount Sinai Hospital: 40.7127281, -74.0060152\n",
      "Second pass success for Memorial Hosp of Wm F & Gertrude F Jones A/K/A Jones Memorial Hosp: 42.1220125, -77.9480575\n",
      "Second pass success for Mount Sinai West: 40.7127281, -74.0060152\n",
      "Second pass success for Metropolitan Hospital Center: 40.7127281, -74.0060152\n",
      "Second pass success for Mount Sinai Beth Israel: 40.7127281, -74.0060152\n",
      "Second pass success for New York Eye and Ear Infirmary of Mount Sinai: 40.7127281, -74.0060152\n",
      "Second pass success for Phelps Memorial Hospital Assn: 41.085652, -73.8584684\n",
      "Second pass success for Rochester General Hospital: 43.157285, -77.615214\n",
      "Second pass success for New York Presbyterian Hospital - Westchester Division: 41.0339862, -73.7629097\n",
      "Second pass success for Samaritan Hospital: 42.7284117, -73.6917878\n",
      "Second pass success for North Shore University Hospital: 40.7956894, -73.6989103\n",
      "Second pass success for SBH Health System: 40.8466508, -73.8785937\n",
      "Second pass success for St Peters Hospital: 42.6511674, -73.754968\n",
      "Second pass success for Northern Westchester Hospital: 41.2042616, -73.7270761\n",
      "Second pass success for Oswego Hospital - Alvin L Krakau Comm Mtl Health Center Div: 43.4547284, -76.5095967\n",
      "Second pass success for Roswell Park Cancer Institute: 42.8867166, -78.8783922\n",
      "Second pass success for Sisters of Charity Hospital - St Joseph Campus: 42.8867166, -78.8783922\n",
      "Second pass success for St Anthony Community Hospital: 41.256483, -74.3598755\n",
      "Second pass success for St Catherine of Siena Hospital: 40.8559314, -73.2006687\n",
      "Second pass success for Westchester Medical Center: 41.0748189, -73.7751326\n",
      "Second pass success for St Johns Episcopal Hospital So Shore: 40.6053825, -73.7551326\n",
      "Second pass success for St Josephs Hospital Health Center: 43.0481221, -76.1474244\n",
      "Second pass success for St Joseph's Medical Center: 40.9312099, -73.8987469\n",
      "Second pass success for St Joseph's MC-St Vincents Westchester Division: 40.8466508, -73.8785937\n",
      "Second pass success for St. Peter's Addiction Recovery Center: 42.6511674, -73.754968\n",
      "Second pass success for Ira Davenport Memorial Hospital: 42.3370164, -77.3177577\n",
      "Second pass success for Long Island Community Hospital: 40.7618286, -73.0157546\n",
      "Second pass success for The University of Vermont Health Network - Elizabethtown Community Hospital: 44.2162734, -73.5908035\n",
      "Second pass success for The University of Vermont Health Network - Champlain Valley Physicians Hospital: 44.6960855, -73.4542915\n",
      "Second pass success for TLC Health Network Lake Shore Hospital: 42.5675589, -79.1128169\n",
      "Second pass success for White Plains Hospital Center: 41.0339862, -73.7629097\n",
      "Second pass success for Women And Children's Hospital Of Buffalo: 42.8867166, -78.8783922\n",
      "Second pass success for Wyckoff Heights Medical Center: 40.6526006, -73.9497211\n",
      "Second pass success for St James Mercy Hospital - Mercycare: 42.3278477, -77.6611025\n",
      "Second pass success for Summit Park Hospital-Rockland County Infirmary: 41.189153, -74.054249\n",
      "Second pass success for St. Peter's Hospital: 42.6511674, -73.754968\n",
      "Second pass success for New York Methodist Hospital: 40.6526006, -73.9497211\n",
      "Second pass success for NYU Lutheran Medical Center: 40.6526006, -73.9497211\n",
      "Second pass success for NYU Hospital for Joint Diseases: 40.7127281, -74.0060152\n",
      "Second pass success for St Josephs Hospital: 43.106456, -76.217705\n",
      "Second pass success for Winthrop-University Hospital: 40.7492678, -73.6406845\n",
      "Second pass success for Womans Christian Assoc Hospital - WCA Hosp at Jones Memorial Health Center: 42.1220125, -77.9480575\n",
      "Second pass success for Franklin Hospital: 40.6631362, -73.7056955\n",
      "Second pass success for Stony Brook University Hospital: 40.9256538, -73.140943\n",
      "Second pass success for New York Hospital Medical Center of Queens: 40.7654301, -73.8174291\n",
      "Second pass success for Orange Regional Medical Center-Middletown Campus: 41.45011, -74.4164807\n",
      "Second pass success for Rockefeller University Hospital: 40.7127281, -74.0060152\n",
      "Second pass success for St. Luke's Cornwall Hospital/Cornwall: 41.434444, -74.035833\n",
      "Second pass success for The University of Vermont Health Network - Champlain Valley Physicians Hosp: 44.6960855, -73.4542915\n",
      "Second pass success for Beth Israel Medical Center/Petrie Campus: 40.7127281, -74.0060152\n",
      "Second pass success for Elizabethtown Community Hospital: 44.2162734, -73.5908035\n",
      "Second pass success for Lawrence Hospital Center: 40.9880495, -73.7974133\n",
      "Second pass success for Montefiore - NY West Square Division: 40.8466508, -73.8785937\n",
      "Second pass success for Mount Sinai Hospital - Queens Division: 40.7455316, -73.9484995\n",
      "Second pass success for NY Eye and Ear Infirmary: 40.7127281, -74.0060152\n",
      "Second pass success for SVCMC-St Vincents Manhattan: 40.7127281, -74.0060152\n",
      "Second pass success for Upstate Univ Hosp at Comm Gen: 43.0481221, -76.1474244\n",
      "Second pass success for New York-Presbyterian Hospital: 40.7127281, -74.0060152\n",
      "Second pass success for Putnam Hospital: 41.4266361, -73.6788272\n",
      "Second pass success for The University of Vermont Health Network - Alice Hyde Medical Center: 44.84881, -74.295044\n",
      "Second pass success for Garnet Health Medical Center - Catskills: 41.7142564, -74.726273\n",
      "Second pass success for New York-Presbyterian Westchester Behavioral Health Center: 41.0339862, -73.7629097\n",
      "Second pass success for Blythedale Children's Hospital: 41.0748189, -73.7751326\n"
     ]
    }
   ],
   "source": [
    "second_pass_coords = {}\n",
    "still_failed = {}\n",
    "\n",
    "for hospital in failures.keys():\n",
    "    address = hospital_to_add[hospital]\n",
    "    \n",
    "    # Try to extract city, state, and zip\n",
    "    match = re.search(r'([\\w\\s]+),\\s*([A-Z]{2})\\s*(\\d{5})', address)\n",
    "    \n",
    "    if match:\n",
    "        city = match.group(1).strip()\n",
    "        state = match.group(2).strip()\n",
    "        zip_code = match.group(3).strip()\n",
    "\n",
    "        # Try city, state, zip first\n",
    "        query = f\"{city}, {state} {zip_code}\"\n",
    "    else:\n",
    "        # If city/state not found, fallback to just zip\n",
    "        zip_match = re.search(r'\\b\\d{5}\\b', address)\n",
    "        if zip_match:\n",
    "            zip_code = zip_match.group()\n",
    "            query = zip_code\n",
    "        else:\n",
    "            # Can't even get a zip code\n",
    "            still_failed[hospital] = 'No parsable location info'\n",
    "            continue  # move to next hospital\n",
    "\n",
    "    # Try geocoding the new query\n",
    "    try:\n",
    "        location = geolocator.geocode(query)\n",
    "        if location:\n",
    "            second_pass_coords[hospital] = (location.latitude, location.longitude)\n",
    "            print(f\"Second pass success for {hospital}: {location.latitude}, {location.longitude}\")\n",
    "        else:\n",
    "            print(f\"Second pass failed for {hospital}\")\n",
    "            still_failed[hospital] = 'Geocoding failed'\n",
    "    except Exception as e:\n",
    "        still_failed[hospital] = str(e)\n",
    "    \n",
    "    time.sleep(1)  # Respect rate limits"
   ]
  },
  {
   "cell_type": "code",
   "execution_count": 7,
   "id": "73e24edb",
   "metadata": {},
   "outputs": [
    {
     "data": {
      "text/plain": [
       "{}"
      ]
     },
     "execution_count": 7,
     "metadata": {},
     "output_type": "execute_result"
    }
   ],
   "source": [
    "still_failed"
   ]
  },
  {
   "cell_type": "code",
   "execution_count": 11,
   "id": "c01609b4",
   "metadata": {},
   "outputs": [],
   "source": [
    "for hospital, coords in second_pass_coords.items():\n",
    "    hospital_to_coords[hospital] = coords"
   ]
  },
  {
   "cell_type": "code",
   "execution_count": 12,
   "id": "2490e8c0",
   "metadata": {},
   "outputs": [],
   "source": [
    "with open(\"hospital_to_coord.json\", \"w\") as file:\n",
    "    json.dump(hospital_to_coords, file, indent=4)"
   ]
  }
 ],
 "metadata": {
  "kernelspec": {
   "display_name": "Python 3",
   "language": "python",
   "name": "python3"
  },
  "language_info": {
   "codemirror_mode": {
    "name": "ipython",
    "version": 3
   },
   "file_extension": ".py",
   "mimetype": "text/x-python",
   "name": "python",
   "nbconvert_exporter": "python",
   "pygments_lexer": "ipython3",
   "version": "3.10.11"
  }
 },
 "nbformat": 4,
 "nbformat_minor": 5
}
