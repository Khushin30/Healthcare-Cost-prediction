{
 "cells": [
  {
   "cell_type": "code",
   "execution_count": 73,
   "id": "d29114c9",
   "metadata": {},
   "outputs": [],
   "source": [
    "import pandas as pd\n",
    "import numpy as np\n",
    "import seaborn as sns\n",
    "import matplotlib.pyplot as plt\n",
    "import json"
   ]
  },
  {
   "cell_type": "code",
   "execution_count": 74,
   "id": "2d5cf0cf",
   "metadata": {},
   "outputs": [
    {
     "data": {
      "text/plain": [
       "Year                                     0\n",
       "Facility Id                              0\n",
       "Facility Name                            0\n",
       "APR DRG Code                             0\n",
       "APR Severity of Illness Code             0\n",
       "APR DRG Description                      0\n",
       "APR Severity of Illness Description    210\n",
       "APR Medical Surgical Code              479\n",
       "APR Medical Surgical Description         0\n",
       "Discharges                               0\n",
       "Mean Charge                              0\n",
       "Median Charge                            0\n",
       "Mean Cost                                0\n",
       "Median Cost                              0\n",
       "dtype: int64"
      ]
     },
     "execution_count": 74,
     "metadata": {},
     "output_type": "execute_result"
    }
   ],
   "source": [
    "SPARCS_df = pd.read_csv('./Hospital_Inpatient_Discharges__SPARCS_De-Identified___Cost_Transparency__Beginning_2009_20250419_original.csv')\n",
    "SPARCS_df.isna().sum()"
   ]
  },
  {
   "cell_type": "code",
   "execution_count": 75,
   "id": "3ba7def0",
   "metadata": {},
   "outputs": [
    {
     "data": {
      "text/plain": [
       "1192827"
      ]
     },
     "execution_count": 75,
     "metadata": {},
     "output_type": "execute_result"
    }
   ],
   "source": [
    "len(SPARCS_df)"
   ]
  },
  {
   "cell_type": "markdown",
   "id": "599caab4",
   "metadata": {},
   "source": [
    "## APR Severity of Illness Code"
   ]
  },
  {
   "cell_type": "code",
   "execution_count": 76,
   "id": "d40aeea5",
   "metadata": {},
   "outputs": [
    {
     "data": {
      "text/plain": [
       "array([1, 2, 3, 4, 0], dtype=int64)"
      ]
     },
     "execution_count": 76,
     "metadata": {},
     "output_type": "execute_result"
    }
   ],
   "source": [
    "SPARCS_df['APR Severity of Illness Code'].unique()"
   ]
  },
  {
   "cell_type": "code",
   "execution_count": 77,
   "id": "71170feb",
   "metadata": {},
   "outputs": [
    {
     "data": {
      "text/plain": [
       "array(['Minor', 'Moderate', 'Major', 'Extreme', 'Not Applicable', nan],\n",
       "      dtype=object)"
      ]
     },
     "execution_count": 77,
     "metadata": {},
     "output_type": "execute_result"
    }
   ],
   "source": [
    "SPARCS_df['APR Severity of Illness Description'].unique()"
   ]
  },
  {
   "cell_type": "code",
   "execution_count": 78,
   "id": "afcdfda2",
   "metadata": {},
   "outputs": [
    {
     "data": {
      "text/html": [
       "<div>\n",
       "<style scoped>\n",
       "    .dataframe tbody tr th:only-of-type {\n",
       "        vertical-align: middle;\n",
       "    }\n",
       "\n",
       "    .dataframe tbody tr th {\n",
       "        vertical-align: top;\n",
       "    }\n",
       "\n",
       "    .dataframe thead th {\n",
       "        text-align: right;\n",
       "    }\n",
       "</style>\n",
       "<table border=\"1\" class=\"dataframe\">\n",
       "  <thead>\n",
       "    <tr style=\"text-align: right;\">\n",
       "      <th></th>\n",
       "      <th>Year</th>\n",
       "      <th>Facility Id</th>\n",
       "      <th>Facility Name</th>\n",
       "      <th>APR DRG Code</th>\n",
       "      <th>APR Severity of Illness Code</th>\n",
       "      <th>APR DRG Description</th>\n",
       "      <th>APR Severity of Illness Description</th>\n",
       "      <th>APR Medical Surgical Code</th>\n",
       "      <th>APR Medical Surgical Description</th>\n",
       "      <th>Discharges</th>\n",
       "      <th>Mean Charge</th>\n",
       "      <th>Median Charge</th>\n",
       "      <th>Mean Cost</th>\n",
       "      <th>Median Cost</th>\n",
       "    </tr>\n",
       "  </thead>\n",
       "  <tbody>\n",
       "    <tr>\n",
       "      <th>1523</th>\n",
       "      <td>2016</td>\n",
       "      <td>1</td>\n",
       "      <td>Albany Medical Center Hospital</td>\n",
       "      <td>956</td>\n",
       "      <td>0</td>\n",
       "      <td>Ungroupable</td>\n",
       "      <td>Not Applicable</td>\n",
       "      <td>NaN</td>\n",
       "      <td>Other</td>\n",
       "      <td>1</td>\n",
       "      <td>31000.32</td>\n",
       "      <td>31000.32</td>\n",
       "      <td>12274.23</td>\n",
       "      <td>12274.23</td>\n",
       "    </tr>\n",
       "    <tr>\n",
       "      <th>3546</th>\n",
       "      <td>2016</td>\n",
       "      <td>85</td>\n",
       "      <td>Auburn Community Hospital</td>\n",
       "      <td>955</td>\n",
       "      <td>0</td>\n",
       "      <td>Principal Diagnosis Invalid As Discharge Diagn...</td>\n",
       "      <td>Not Applicable</td>\n",
       "      <td>NaN</td>\n",
       "      <td>Other</td>\n",
       "      <td>1</td>\n",
       "      <td>13675.50</td>\n",
       "      <td>13675.50</td>\n",
       "      <td>4807.53</td>\n",
       "      <td>4807.53</td>\n",
       "    </tr>\n",
       "    <tr>\n",
       "      <th>4869</th>\n",
       "      <td>2016</td>\n",
       "      <td>1438</td>\n",
       "      <td>Bellevue Hospital Center</td>\n",
       "      <td>955</td>\n",
       "      <td>0</td>\n",
       "      <td>Principal Diagnosis Invalid As Discharge Diagn...</td>\n",
       "      <td>Not Applicable</td>\n",
       "      <td>NaN</td>\n",
       "      <td>Other</td>\n",
       "      <td>1</td>\n",
       "      <td>2545.00</td>\n",
       "      <td>2545.00</td>\n",
       "      <td>1322.79</td>\n",
       "      <td>1322.79</td>\n",
       "    </tr>\n",
       "    <tr>\n",
       "      <th>6362</th>\n",
       "      <td>2016</td>\n",
       "      <td>1178</td>\n",
       "      <td>Bronx-Lebanon Hospital Center - Concourse Divi...</td>\n",
       "      <td>955</td>\n",
       "      <td>0</td>\n",
       "      <td>Principal Diagnosis Invalid As Discharge Diagn...</td>\n",
       "      <td>Not Applicable</td>\n",
       "      <td>NaN</td>\n",
       "      <td>Other</td>\n",
       "      <td>10</td>\n",
       "      <td>7348.20</td>\n",
       "      <td>4676.48</td>\n",
       "      <td>6644.60</td>\n",
       "      <td>3976.82</td>\n",
       "    </tr>\n",
       "    <tr>\n",
       "      <th>7271</th>\n",
       "      <td>2016</td>\n",
       "      <td>1286</td>\n",
       "      <td>Brookdale Hospital Medical Center</td>\n",
       "      <td>955</td>\n",
       "      <td>0</td>\n",
       "      <td>Principal Diagnosis Invalid As Discharge Diagn...</td>\n",
       "      <td>Not Applicable</td>\n",
       "      <td>NaN</td>\n",
       "      <td>Other</td>\n",
       "      <td>1</td>\n",
       "      <td>16986.42</td>\n",
       "      <td>16986.42</td>\n",
       "      <td>9718.78</td>\n",
       "      <td>9718.78</td>\n",
       "    </tr>\n",
       "    <tr>\n",
       "      <th>...</th>\n",
       "      <td>...</td>\n",
       "      <td>...</td>\n",
       "      <td>...</td>\n",
       "      <td>...</td>\n",
       "      <td>...</td>\n",
       "      <td>...</td>\n",
       "      <td>...</td>\n",
       "      <td>...</td>\n",
       "      <td>...</td>\n",
       "      <td>...</td>\n",
       "      <td>...</td>\n",
       "      <td>...</td>\n",
       "      <td>...</td>\n",
       "      <td>...</td>\n",
       "    </tr>\n",
       "    <tr>\n",
       "      <th>1191076</th>\n",
       "      <td>2021</td>\n",
       "      <td>3067</td>\n",
       "      <td>Millard Fillmore Suburban Hospital</td>\n",
       "      <td>955</td>\n",
       "      <td>0</td>\n",
       "      <td>PRINCIPAL DIAGNOSIS INVALID AS DISCHARGE DIAGN...</td>\n",
       "      <td>Not Applicable</td>\n",
       "      <td>NaN</td>\n",
       "      <td>Other</td>\n",
       "      <td>4</td>\n",
       "      <td>5647.67</td>\n",
       "      <td>4723.04</td>\n",
       "      <td>2922.06</td>\n",
       "      <td>1839.80</td>\n",
       "    </tr>\n",
       "    <tr>\n",
       "      <th>1191841</th>\n",
       "      <td>2021</td>\n",
       "      <td>3376</td>\n",
       "      <td>Cohen Children's Medical Center</td>\n",
       "      <td>955</td>\n",
       "      <td>0</td>\n",
       "      <td>PRINCIPAL DIAGNOSIS INVALID AS DISCHARGE DIAGN...</td>\n",
       "      <td>Not Applicable</td>\n",
       "      <td>NaN</td>\n",
       "      <td>Other</td>\n",
       "      <td>1</td>\n",
       "      <td>60927.00</td>\n",
       "      <td>60927.00</td>\n",
       "      <td>8077.91</td>\n",
       "      <td>8077.91</td>\n",
       "    </tr>\n",
       "    <tr>\n",
       "      <th>1191842</th>\n",
       "      <td>2021</td>\n",
       "      <td>3376</td>\n",
       "      <td>Cohen Children's Medical Center</td>\n",
       "      <td>956</td>\n",
       "      <td>0</td>\n",
       "      <td>UNGROUPABLE</td>\n",
       "      <td>Not Applicable</td>\n",
       "      <td>NaN</td>\n",
       "      <td>Other</td>\n",
       "      <td>8</td>\n",
       "      <td>16277.62</td>\n",
       "      <td>14935.96</td>\n",
       "      <td>2908.46</td>\n",
       "      <td>2524.23</td>\n",
       "    </tr>\n",
       "    <tr>\n",
       "      <th>1192563</th>\n",
       "      <td>2021</td>\n",
       "      <td>3975</td>\n",
       "      <td>New York Presbyterian Hospital - Allen Hospital</td>\n",
       "      <td>955</td>\n",
       "      <td>0</td>\n",
       "      <td>PRINCIPAL DIAGNOSIS INVALID AS DISCHARGE DIAGN...</td>\n",
       "      <td>Not Applicable</td>\n",
       "      <td>NaN</td>\n",
       "      <td>Other</td>\n",
       "      <td>4</td>\n",
       "      <td>36222.24</td>\n",
       "      <td>43319.90</td>\n",
       "      <td>11303.77</td>\n",
       "      <td>13371.07</td>\n",
       "    </tr>\n",
       "    <tr>\n",
       "      <th>1192592</th>\n",
       "      <td>2021</td>\n",
       "      <td>9431</td>\n",
       "      <td>St. Peter's Addiction Recovery Center</td>\n",
       "      <td>956</td>\n",
       "      <td>0</td>\n",
       "      <td>UNGROUPABLE</td>\n",
       "      <td>Not Applicable</td>\n",
       "      <td>NaN</td>\n",
       "      <td>Other</td>\n",
       "      <td>1</td>\n",
       "      <td>1647.85</td>\n",
       "      <td>1647.85</td>\n",
       "      <td>473.81</td>\n",
       "      <td>473.81</td>\n",
       "    </tr>\n",
       "  </tbody>\n",
       "</table>\n",
       "<p>560 rows × 14 columns</p>\n",
       "</div>"
      ],
      "text/plain": [
       "         Year  Facility Id                                      Facility Name  \\\n",
       "1523     2016            1                     Albany Medical Center Hospital   \n",
       "3546     2016           85                          Auburn Community Hospital   \n",
       "4869     2016         1438                           Bellevue Hospital Center   \n",
       "6362     2016         1178  Bronx-Lebanon Hospital Center - Concourse Divi...   \n",
       "7271     2016         1286                  Brookdale Hospital Medical Center   \n",
       "...       ...          ...                                                ...   \n",
       "1191076  2021         3067                 Millard Fillmore Suburban Hospital   \n",
       "1191841  2021         3376                    Cohen Children's Medical Center   \n",
       "1191842  2021         3376                    Cohen Children's Medical Center   \n",
       "1192563  2021         3975    New York Presbyterian Hospital - Allen Hospital   \n",
       "1192592  2021         9431              St. Peter's Addiction Recovery Center   \n",
       "\n",
       "         APR DRG Code  APR Severity of Illness Code  \\\n",
       "1523              956                             0   \n",
       "3546              955                             0   \n",
       "4869              955                             0   \n",
       "6362              955                             0   \n",
       "7271              955                             0   \n",
       "...               ...                           ...   \n",
       "1191076           955                             0   \n",
       "1191841           955                             0   \n",
       "1191842           956                             0   \n",
       "1192563           955                             0   \n",
       "1192592           956                             0   \n",
       "\n",
       "                                       APR DRG Description  \\\n",
       "1523                                           Ungroupable   \n",
       "3546     Principal Diagnosis Invalid As Discharge Diagn...   \n",
       "4869     Principal Diagnosis Invalid As Discharge Diagn...   \n",
       "6362     Principal Diagnosis Invalid As Discharge Diagn...   \n",
       "7271     Principal Diagnosis Invalid As Discharge Diagn...   \n",
       "...                                                    ...   \n",
       "1191076  PRINCIPAL DIAGNOSIS INVALID AS DISCHARGE DIAGN...   \n",
       "1191841  PRINCIPAL DIAGNOSIS INVALID AS DISCHARGE DIAGN...   \n",
       "1191842                                        UNGROUPABLE   \n",
       "1192563  PRINCIPAL DIAGNOSIS INVALID AS DISCHARGE DIAGN...   \n",
       "1192592                                        UNGROUPABLE   \n",
       "\n",
       "        APR Severity of Illness Description APR Medical Surgical Code  \\\n",
       "1523                         Not Applicable                       NaN   \n",
       "3546                         Not Applicable                       NaN   \n",
       "4869                         Not Applicable                       NaN   \n",
       "6362                         Not Applicable                       NaN   \n",
       "7271                         Not Applicable                       NaN   \n",
       "...                                     ...                       ...   \n",
       "1191076                      Not Applicable                       NaN   \n",
       "1191841                      Not Applicable                       NaN   \n",
       "1191842                      Not Applicable                       NaN   \n",
       "1192563                      Not Applicable                       NaN   \n",
       "1192592                      Not Applicable                       NaN   \n",
       "\n",
       "        APR Medical Surgical Description  Discharges  Mean Charge  \\\n",
       "1523                               Other           1     31000.32   \n",
       "3546                               Other           1     13675.50   \n",
       "4869                               Other           1      2545.00   \n",
       "6362                               Other          10      7348.20   \n",
       "7271                               Other           1     16986.42   \n",
       "...                                  ...         ...          ...   \n",
       "1191076                            Other           4      5647.67   \n",
       "1191841                            Other           1     60927.00   \n",
       "1191842                            Other           8     16277.62   \n",
       "1192563                            Other           4     36222.24   \n",
       "1192592                            Other           1      1647.85   \n",
       "\n",
       "         Median Charge  Mean Cost  Median Cost  \n",
       "1523          31000.32   12274.23     12274.23  \n",
       "3546          13675.50    4807.53      4807.53  \n",
       "4869           2545.00    1322.79      1322.79  \n",
       "6362           4676.48    6644.60      3976.82  \n",
       "7271          16986.42    9718.78      9718.78  \n",
       "...                ...        ...          ...  \n",
       "1191076        4723.04    2922.06      1839.80  \n",
       "1191841       60927.00    8077.91      8077.91  \n",
       "1191842       14935.96    2908.46      2524.23  \n",
       "1192563       43319.90   11303.77     13371.07  \n",
       "1192592        1647.85     473.81       473.81  \n",
       "\n",
       "[560 rows x 14 columns]"
      ]
     },
     "execution_count": 78,
     "metadata": {},
     "output_type": "execute_result"
    }
   ],
   "source": [
    "SPARCS_df[\n",
    "    (SPARCS_df['APR Severity of Illness Description'] == 'Not Applicable') |\n",
    "    (SPARCS_df['APR Severity of Illness Description'].isnull())\n",
    "]"
   ]
  },
  {
   "cell_type": "code",
   "execution_count": 79,
   "id": "92e44fc3",
   "metadata": {},
   "outputs": [
    {
     "data": {
      "text/plain": [
       "array(['Ungroupable',\n",
       "       'Principal Diagnosis Invalid As Discharge Diagnosis',\n",
       "       'Principal diagnosis invalid as discharge diagnosis',\n",
       "       'PRINCIPAL DIAGNOSIS INVALID AS DISCHARGE DIAGNOSIS',\n",
       "       'UNGROUPABLE'], dtype=object)"
      ]
     },
     "execution_count": 79,
     "metadata": {},
     "output_type": "execute_result"
    }
   ],
   "source": [
    "SPARCS_df[\n",
    "    (SPARCS_df['APR Severity of Illness Description'] == 'Not Applicable') |\n",
    "    (SPARCS_df['APR Severity of Illness Description'].isnull())\n",
    "]['APR DRG Description'].unique()"
   ]
  },
  {
   "cell_type": "code",
   "execution_count": 80,
   "id": "9fe891ba",
   "metadata": {},
   "outputs": [
    {
     "data": {
      "text/plain": [
       "array([nan, 'U'], dtype=object)"
      ]
     },
     "execution_count": 80,
     "metadata": {},
     "output_type": "execute_result"
    }
   ],
   "source": [
    "SPARCS_df[\n",
    "    (SPARCS_df['APR Severity of Illness Description'] == 'Not Applicable') \n",
    "]['APR Medical Surgical Code'].unique()"
   ]
  },
  {
   "cell_type": "markdown",
   "id": "66262502",
   "metadata": {},
   "source": [
    "In this situation I am thinking it wouldn't make sense to impute the missing or 'Not Applicable' values for Illness Description because then we would be teaching the model something that isn't true. And this can actually be a good thing because if the LLM parsing the user's natural language input cannot figure out what counts as 'Minor', 'Moderate', 'Major', 'Extreme' it can have 'Not Applicable' to fall back on and still be able to give the user an accurate prediction of what to expect."
   ]
  },
  {
   "cell_type": "code",
   "execution_count": 81,
   "id": "4c28aa6b",
   "metadata": {},
   "outputs": [],
   "source": [
    "SPARCS_df['APR Severity of Illness Description'] = SPARCS_df['APR Severity of Illness Description'].fillna('Not Applicable')"
   ]
  },
  {
   "cell_type": "markdown",
   "id": "1a97540e",
   "metadata": {},
   "source": [
    "## Medical Surgical Code\n",
    "\n",
    "APR Medical Surgical Code: The APR-DRG code indicating ‘M’ (Medical), ‘P’ (Surgical) or ‘NA’ (Other)."
   ]
  },
  {
   "cell_type": "code",
   "execution_count": 82,
   "id": "1fe5dd33",
   "metadata": {},
   "outputs": [
    {
     "data": {
      "text/plain": [
       "array(['M', 'P', nan, 'U'], dtype=object)"
      ]
     },
     "execution_count": 82,
     "metadata": {},
     "output_type": "execute_result"
    }
   ],
   "source": [
    "SPARCS_df['APR Medical Surgical Code'].unique()"
   ]
  },
  {
   "cell_type": "code",
   "execution_count": 83,
   "id": "3458a4ca",
   "metadata": {},
   "outputs": [
    {
     "data": {
      "text/plain": [
       "array(['Medical', 'Surgical', 'Other'], dtype=object)"
      ]
     },
     "execution_count": 83,
     "metadata": {},
     "output_type": "execute_result"
    }
   ],
   "source": [
    "SPARCS_df['APR Medical Surgical Description'].unique()"
   ]
  },
  {
   "cell_type": "markdown",
   "id": "c93e8882",
   "metadata": {},
   "source": [
    "Let's see if the description is anything besides 'Other' whenever the Surgical Code is missing. In that case we could calculate the true value by just mapping."
   ]
  },
  {
   "cell_type": "code",
   "execution_count": 84,
   "id": "93b7bb46",
   "metadata": {},
   "outputs": [
    {
     "data": {
      "text/plain": [
       "array(['Other'], dtype=object)"
      ]
     },
     "execution_count": 84,
     "metadata": {},
     "output_type": "execute_result"
    }
   ],
   "source": [
    "SPARCS_df[SPARCS_df['APR Medical Surgical Code'].isna()]['APR Medical Surgical Description'].unique()"
   ]
  },
  {
   "cell_type": "markdown",
   "id": "00134dd9",
   "metadata": {},
   "source": [
    "In this case again I belive its better to just leave the nan and U(unkown/other) categories be."
   ]
  },
  {
   "cell_type": "code",
   "execution_count": 85,
   "id": "2289ee73",
   "metadata": {},
   "outputs": [],
   "source": [
    "SPARCS_df['APR Medical Surgical Code'] = SPARCS_df['APR Medical Surgical Code'].fillna('U')"
   ]
  },
  {
   "cell_type": "markdown",
   "id": "c7364faa",
   "metadata": {},
   "source": [
    "Sanity Check"
   ]
  },
  {
   "cell_type": "code",
   "execution_count": 86,
   "id": "24c87bcd",
   "metadata": {},
   "outputs": [
    {
     "data": {
      "text/plain": [
       "Year                                   0\n",
       "Facility Id                            0\n",
       "Facility Name                          0\n",
       "APR DRG Code                           0\n",
       "APR Severity of Illness Code           0\n",
       "APR DRG Description                    0\n",
       "APR Severity of Illness Description    0\n",
       "APR Medical Surgical Code              0\n",
       "APR Medical Surgical Description       0\n",
       "Discharges                             0\n",
       "Mean Charge                            0\n",
       "Median Charge                          0\n",
       "Mean Cost                              0\n",
       "Median Cost                            0\n",
       "dtype: int64"
      ]
     },
     "execution_count": 86,
     "metadata": {},
     "output_type": "execute_result"
    }
   ],
   "source": [
    "SPARCS_df.isna().sum()"
   ]
  },
  {
   "cell_type": "markdown",
   "id": "bb86ca25",
   "metadata": {},
   "source": [
    "Save the processed panda as a CSV"
   ]
  },
  {
   "cell_type": "code",
   "execution_count": 87,
   "id": "e1b55de0",
   "metadata": {},
   "outputs": [],
   "source": [
    "SPARCS_df.to_csv('./Hospital_Inpatient_Discharges__SPARCS_De-Identified___Cost_Transparency__Beginning_2009_20250419.csv', index=False)"
   ]
  }
 ],
 "metadata": {
  "kernelspec": {
   "display_name": "Python 3",
   "language": "python",
   "name": "python3"
  },
  "language_info": {
   "codemirror_mode": {
    "name": "ipython",
    "version": 3
   },
   "file_extension": ".py",
   "mimetype": "text/x-python",
   "name": "python",
   "nbconvert_exporter": "python",
   "pygments_lexer": "ipython3",
   "version": "3.10.11"
  }
 },
 "nbformat": 4,
 "nbformat_minor": 5
}
